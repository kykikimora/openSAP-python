{
 "cells": [
  {
   "cell_type": "markdown",
   "metadata": {},
   "source": [
    "# Exercise 2\n",
    "Write a program that simulates the input of an ATM. For this the following steps need to be carried out:\n",
    "- First ask for the PIN.\n",
    "- Compare the input with a constant you have chosen.\n",
    "- The following steps will be executed only if the correct PIN is entered:\n",
    "    - Ask how much money should be withdrawn.\n",
    "    - Compare the amount with a fixed account balance.\n",
    "    - If the account is covered, display a corresponding output (\"Money is issued\") and the new account balance.\n",
    "    - If the account is not covered, display an appropriate error message.\n",
    "- If the PIN was entered incorrectly, issue an error message."
   ]
  },
  {
   "cell_type": "code",
   "execution_count": 5,
   "metadata": {},
   "outputs": [
    {
     "name": "stdout",
     "output_type": "stream",
     "text": [
      "Error: invalid PIN\n"
     ]
    }
   ],
   "source": [
    "pin = 1234\n",
    "PIN = int(input(\"Please enter your PIN number: \"))\n",
    "\n",
    "if PIN == pin:\n",
    "    account_balance = 1000\n",
    "    money = int(input(\"How much do you want to withdraw?\"))\n",
    "    if money > account_balance:\n",
    "        print(\"Not enough money on your account.\")\n",
    "    else:\n",
    "        print(\"Money is issued\")    \n",
    "else:\n",
    "    print(\"Error: invalid PIN\")\n"
   ]
  }
 ],
 "metadata": {
  "kernelspec": {
   "display_name": "Python 3",
   "language": "python",
   "name": "python3"
  },
  "language_info": {
   "codemirror_mode": {
    "name": "ipython",
    "version": 3
   },
   "file_extension": ".py",
   "mimetype": "text/x-python",
   "name": "python",
   "nbconvert_exporter": "python",
   "pygments_lexer": "ipython3",
   "version": "3.12.2"
  }
 },
 "nbformat": 4,
 "nbformat_minor": 2
}
