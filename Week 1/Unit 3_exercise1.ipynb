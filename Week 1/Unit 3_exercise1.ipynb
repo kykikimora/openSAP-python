{
 "cells": [
  {
   "cell_type": "markdown",
   "metadata": {},
   "source": [
    "#Write a Python program that asks the user to enter:\n",
    "\n",
    "A name\n",
    "A start city\n",
    "A destination city and\n",
    "A means of transportation\n",
    "The program should then print that the name wants to travel from start to destination by means of transportation."
   ]
  },
  {
   "cell_type": "code",
   "execution_count": 1,
   "metadata": {},
   "outputs": [
    {
     "name": "stdout",
     "output_type": "stream",
     "text": [
      "Carol will begin at McKee and travel to Lexington\n",
      "The desired way to travel is: jetpack\n"
     ]
    }
   ],
   "source": [
    "user_name = input(\"Please enter your name: \")\n",
    "start_city = input(\"What city will you be traveling from? \")\n",
    "destination_city = input(\"To what city do you want to travel? \")\n",
    "transport = input(\"How do you want to travel there?\")\n",
    "\n",
    "print(user_name, \"will begin at\", start_city, \"and travel to\", destination_city)\n",
    "print(\"The desired way to travel is:\", transport)\n"
   ]
  },
  {
   "cell_type": "code",
   "execution_count": 2,
   "metadata": {},
   "outputs": [
    {
     "name": "stdout",
     "output_type": "stream",
     "text": [
      "Carol wants to travel from McKee to Pikeville by means of jetplane .\n"
     ]
    }
   ],
   "source": [
    "user_name = input(\"Please enter your name:\")\n",
    "start_city = input(\"Please enter the name of the city you will start from:\")\n",
    "destination_city = input(\"Please enter the name of your destinaiton city:\")\n",
    "transport = input(\"Please enter your desired means of transportation:\")\n",
    "\n",
    "print(user_name, \"wants to travel from\", start_city, \"to\", destination_city, \"by means of\", transport,\".\")\n"
   ]
  }
 ],
 "metadata": {
  "kernelspec": {
   "display_name": "Python 3",
   "language": "python",
   "name": "python3"
  },
  "language_info": {
   "codemirror_mode": {
    "name": "ipython",
    "version": 3
   },
   "file_extension": ".py",
   "mimetype": "text/x-python",
   "name": "python",
   "nbconvert_exporter": "python",
   "pygments_lexer": "ipython3",
   "version": "3.12.2"
  }
 },
 "nbformat": 4,
 "nbformat_minor": 2
}
